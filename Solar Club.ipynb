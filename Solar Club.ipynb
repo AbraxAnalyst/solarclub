{
 "cells": [
  {
   "cell_type": "code",
   "execution_count": 1,
   "id": "db9facf1-1701-4552-8251-9a97ddc6a3e7",
   "metadata": {},
   "outputs": [],
   "source": [
    "import math"
   ]
  },
  {
   "cell_type": "markdown",
   "id": "fe1a11f0-217b-4953-8be4-778a1cda5432",
   "metadata": {},
   "source": [
    "### This is to Simplify the process of calculating your solar installation requirement "
   ]
  },
  {
   "cell_type": "code",
   "execution_count": 8,
   "id": "4e00fd7d-57db-4daf-8b8e-760f4495eea9",
   "metadata": {},
   "outputs": [
    {
     "name": "stdin",
     "output_type": "stream",
     "text": [
      "Input the runing load in KWh 2000\n",
      "How many hours of Autonomy do you want 6\n",
      "What voltage system do you want, 12V,24V,48v 48\n"
     ]
    }
   ],
   "source": [
    "#Get input from the engineer\n",
    "\n",
    "# 1. The total running loads in KWh\n",
    "load = int(input(\"Input the runing load in KWh\"))\n",
    "# 2. Howe many hours backup time are you looking at \n",
    "Back_up_time = int(input(\"How many hours of Autonomy do you want\"))\n",
    "Battery_volt = int(input(\"What voltage system do you want, 12V,24V,48v\"))\n"
   ]
  },
  {
   "cell_type": "markdown",
   "id": "77ddceb5-751d-467e-9dd4-ff1a7b51be41",
   "metadata": {},
   "source": [
    "#### lET CALCULATE FOR THE Number of Battery needed "
   ]
  },
  {
   "cell_type": "code",
   "execution_count": 9,
   "id": "c7421b0c-d78a-4091-9790-5348daf4a461",
   "metadata": {},
   "outputs": [
    {
     "name": "stdout",
     "output_type": "stream",
     "text": [
      "2\n"
     ]
    }
   ],
   "source": [
    "storage = load * Back_up_time * 1.6\n",
    "if Battery_volt == 12:\n",
    "    capacity = storage/2640\n",
    "elif Battery_volt == 24:\n",
    "    capacity = storage/5280\n",
    "else:\n",
    "    capacity = storage/ 10560\n",
    "\n",
    "print(round(capacity))"
   ]
  },
  {
   "cell_type": "markdown",
   "id": "f5799b4c-fede-4c09-9a1b-7471bddddea8",
   "metadata": {},
   "source": [
    "### Lets talk about Inverter Capacity"
   ]
  },
  {
   "cell_type": "code",
   "execution_count": 12,
   "id": "0700ed94-1b79-4f45-bc43-00fddd4b4894",
   "metadata": {},
   "outputs": [
    {
     "name": "stdout",
     "output_type": "stream",
     "text": [
      "2400\n"
     ]
    }
   ],
   "source": [
    "# Sizing the inverter is a very good thing todo\n",
    "\n",
    "Inverter_capacity = load + (load * .2)\n",
    "print(round(Inverter_capacity))"
   ]
  },
  {
   "cell_type": "code",
   "execution_count": 14,
   "id": "41edaf87-77f4-44b9-8e61-37ac4bc801f2",
   "metadata": {},
   "outputs": [
    {
     "name": "stdout",
     "output_type": "stream",
     "text": [
      "10\n",
      "3840.0\n"
     ]
    }
   ],
   "source": [
    "# Lets talk about the number of solar panels needed \n",
    "#Using 5 hours of sunshine \n",
    "\n",
    "panel_array = storage/5\n",
    "number_of_panels = panel_array/400\n",
    "print(round(number_of_panels))\n",
    "print(panel_array)"
   ]
  },
  {
   "cell_type": "code",
   "execution_count": null,
   "id": "8374a9df-298a-4e34-a8ba-1933f9cb0f35",
   "metadata": {},
   "outputs": [],
   "source": []
  }
 ],
 "metadata": {
  "kernelspec": {
   "display_name": "Python 3 (ipykernel)",
   "language": "python",
   "name": "python3"
  },
  "language_info": {
   "codemirror_mode": {
    "name": "ipython",
    "version": 3
   },
   "file_extension": ".py",
   "mimetype": "text/x-python",
   "name": "python",
   "nbconvert_exporter": "python",
   "pygments_lexer": "ipython3",
   "version": "3.11.8"
  }
 },
 "nbformat": 4,
 "nbformat_minor": 5
}
